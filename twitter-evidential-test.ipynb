{
 "cells": [
  {
   "cell_type": "code",
   "execution_count": 8,
   "metadata": {
    "collapsed": true
   },
   "outputs": [],
   "source": [
    "from secret import CS, ATS\n",
    "import twitter, json"
   ]
  },
  {
   "cell_type": "code",
   "execution_count": 2,
   "metadata": {
    "collapsed": true
   },
   "outputs": [],
   "source": [
    "api = twitter.Api(consumer_key=\"WtC6NdiKW8T8R2u6l9MprKB8e\",\n",
    "                  consumer_secret=CS,\n",
    "                  access_token_key=\"113242685-3KbjwGpL44mxhfdb4PoMaNAjwFFf9FZDXhD8d0DK\",\n",
    "                  access_token_secret=ATS)"
   ]
  },
  {
   "cell_type": "code",
   "execution_count": 14,
   "metadata": {
    "collapsed": false
   },
   "outputs": [],
   "source": [
    "search_results = api.GetSearch(\"apparently,\")"
   ]
  },
  {
   "cell_type": "code",
   "execution_count": 15,
   "metadata": {
    "collapsed": false
   },
   "outputs": [
    {
     "data": {
      "text/plain": [
       "{'created_at': 'Wed Aug 17 15:26:10 +0000 2016',\n",
       " 'favorite_count': 1509,\n",
       " 'hashtags': [],\n",
       " 'id': 765932741191925760,\n",
       " 'id_str': '765932741191925760',\n",
       " 'lang': 'en',\n",
       " 'media': [{'display_url': 'pic.twitter.com/08tdltoP1x',\n",
       "   'expanded_url': 'http://twitter.com/BleacherReport/status/765932741191925760/photo/1',\n",
       "   'id': 765931821829853184,\n",
       "   'media_url': 'http://pbs.twimg.com/media/CqEi7xJWEAA5Flm.jpg',\n",
       "   'media_url_https': 'https://pbs.twimg.com/media/CqEi7xJWEAA5Flm.jpg',\n",
       "   'type': 'photo',\n",
       "   'url': 'https://t.co/08tdltoP1x'}],\n",
       " 'retweet_count': 494,\n",
       " 'source': '<a href=\"https://about.twitter.com/products/tweetdeck\" rel=\"nofollow\">TweetDeck</a>',\n",
       " 'text': 'We thought LeBron’s Olympic playing days were over. Apparently that might not be the case... https://t.co/gR8ZlOFZiB https://t.co/08tdltoP1x',\n",
       " 'urls': [{'expanded_url': 'http://ble.ac/2bxLSJK',\n",
       "   'url': 'https://t.co/gR8ZlOFZiB'}],\n",
       " 'user': {'created_at': 'Sat Mar 10 23:52:36 +0000 2007',\n",
       "  'description': 'Get the latest sports news, live scores, breaking updates, and video highlights - Download the Team Stream app https://t.co/eiwN57UBz0',\n",
       "  'favourites_count': 86,\n",
       "  'followers_count': 2945145,\n",
       "  'friends_count': 538,\n",
       "  'id': 890891,\n",
       "  'lang': 'en',\n",
       "  'listed_count': 11455,\n",
       "  'name': 'Bleacher Report',\n",
       "  'profile_background_color': '444444',\n",
       "  'profile_background_image_url': 'http://pbs.twimg.com/profile_background_images/572500505171992576/0pI8bQVE.jpeg',\n",
       "  'profile_banner_url': 'https://pbs.twimg.com/profile_banners/890891/1469826176',\n",
       "  'profile_image_url': 'http://pbs.twimg.com/profile_images/751421072508084224/f-W8B0YJ_normal.jpg',\n",
       "  'profile_link_color': '009999',\n",
       "  'profile_sidebar_fill_color': 'EFEFEF',\n",
       "  'profile_text_color': '333333',\n",
       "  'screen_name': 'BleacherReport',\n",
       "  'statuses_count': 59623,\n",
       "  'time_zone': 'Pacific Time (US & Canada)',\n",
       "  'url': 'https://t.co/KZyn07076z',\n",
       "  'utc_offset': -25200,\n",
       "  'verified': True},\n",
       " 'user_mentions': []}"
      ]
     },
     "execution_count": 15,
     "metadata": {},
     "output_type": "execute_result"
    }
   ],
   "source": [
    "first_result = search_results[0].AsDict()\n",
    "first_result"
   ]
  },
  {
   "cell_type": "code",
   "execution_count": null,
   "metadata": {
    "collapsed": true
   },
   "outputs": [],
   "source": []
  }
 ],
 "metadata": {
  "kernelspec": {
   "display_name": "Python 3",
   "language": "python",
   "name": "python3"
  },
  "language_info": {
   "codemirror_mode": {
    "name": "ipython",
    "version": 3
   },
   "file_extension": ".py",
   "mimetype": "text/x-python",
   "name": "python",
   "nbconvert_exporter": "python",
   "pygments_lexer": "ipython3",
   "version": "3.5.2"
  }
 },
 "nbformat": 4,
 "nbformat_minor": 0
}
